{
 "cells": [
  {
   "cell_type": "code",
   "execution_count": 1,
   "metadata": {},
   "outputs": [],
   "source": [
    "from generate_access_graph import generate_iam_test\n",
    "import time\n",
    "from z3 import Solver, sat, StringVal, BoolVal, unsat\n",
    "import matplotlib.pyplot as plt"
   ]
  },
  {
   "cell_type": "code",
   "execution_count": 2,
   "metadata": {},
   "outputs": [],
   "source": [
    "from numpy import average\n",
    "\n",
    "\n",
    "def time_function(f, *args):\n",
    "    start = time.perf_counter()\n",
    "    result = f(*args)\n",
    "    end = time.perf_counter()\n",
    "    return (result, end-start)\n",
    "\n",
    "def perform_test(params, id):\n",
    "    test_instance = generate_iam_test(params)\n",
    "    (user, action, res, path_len) = test_instance.generate_allow_test()\n",
    "    print(user)\n",
    "    print(action)\n",
    "    print(res)\n",
    "    s = Solver()\n",
    "    s.add(test_instance.env['Allow'](StringVal(user), StringVal(action), StringVal(res)))\n",
    "    (result, elapsed) = time_function(lambda: s.check())\n",
    "    #print(f\"test-{id}: params={params}; path_length={path_len}; num_roles={len(test_instance.role_graph)} q=Allow({user}, {action}, {res}); elapsed={elapsed}\")\n",
    "    if result == sat:\n",
    "        print('sat')\n",
    "    else:\n",
    "        print('unsat')\n",
    "    \n",
    "    return {'result': result == 'sat', 'params': params, 'path_length': path_len, 'num_roles': len(test_instance.role_graph), 'q': f\"Allow({user}, {action}, {res})\", \n",
    "                                    'elapsed': elapsed}\n",
    "\n",
    "def perform_averaged_test(params, iters=10):\n",
    "    test_instance = generate_iam_test(params)\n",
    "\n",
    "    times = []\n",
    "    results = []\n",
    "    for _ in range(iters):\n",
    "        (user, action, res) = test_instance.generate_random_allow_test()\n",
    "        s = Solver()\n",
    "        s.add(test_instance.env['Allow'](StringVal(user), StringVal(action), StringVal(res)))\n",
    "        #print(f\"query: {test_instance.env['Allow'](StringVal(user), StringVal(action), StringVal(res))}\")\n",
    "        (result, elapsed) = time_function(lambda: s.check())\n",
    "        if result == unsat:\n",
    "            print('unsat!')\n",
    "            s1 = Solver()\n",
    "            s1.add(test_instance.env['TC_Access'](StringVal(user), StringVal(role)))\n",
    "            print(f\"checking access: {s1.check()}\")\n",
    "\n",
    "            s2 = Solver()\n",
    "            s2.add(test_instance.env['Policy'](BoolVal(True), StringVal(role), StringVal(action),\\\n",
    "                            StringVal(res)))\n",
    "            print(f\"checking policy: {s1.check()}\")\n",
    "            assert result == sat\n",
    "\n",
    "\n",
    "        times.append(elapsed)\n",
    "        results.append(result)\n",
    "    \n",
    "    return {'result': results, 'params': params,  'num_roles': len(test_instance.role_graph), \n",
    "                                    'avg_elapsed': average(times)}"
   ]
  },
  {
   "cell_type": "code",
   "execution_count": 4,
   "metadata": {},
   "outputs": [
    {
     "name": "stdout",
     "output_type": "stream",
     "text": [
      "arn:aws:iam::14354624986284130233:user/user_95\n",
      "s3:GetObjectRetention\n",
      "test_object_541\n",
      "sat\n",
      "{'result': False, 'params': {'num_role_groups': 100, 'roles_per_group': 4, 'role_branching_factor': 2, 'num_users': 100, 'max_n_objects': 4, 'max_n_actions': 3}, 'path_length': 6, 'num_roles': 235, 'q': 'Allow(arn:aws:iam::14354624986284130233:user/user_95, s3:GetObjectRetention, test_object_541)', 'elapsed': 0.3605761930011795}\n",
      "arn:aws:iam::14354624986284130233:user/user_84\n",
      "s3:PutObject\n",
      "test_object_1086\n",
      "sat\n",
      "{'result': False, 'params': {'num_role_groups': 100, 'roles_per_group': 4, 'role_branching_factor': 4, 'num_users': 100, 'max_n_objects': 4, 'max_n_actions': 3}, 'path_length': 8, 'num_roles': 238, 'q': 'Allow(arn:aws:iam::14354624986284130233:user/user_84, s3:PutObject, test_object_1086)', 'elapsed': 0.5002497749992472}\n",
      "arn:aws:iam::14354624986284130233:user/user_42\n",
      "s3:DeleteObjectVersion\n",
      "test_object_1778\n",
      "sat\n",
      "{'result': False, 'params': {'num_role_groups': 100, 'roles_per_group': 4, 'role_branching_factor': 6, 'num_users': 100, 'max_n_objects': 4, 'max_n_actions': 3}, 'path_length': 9, 'num_roles': 249, 'q': 'Allow(arn:aws:iam::14354624986284130233:user/user_42, s3:DeleteObjectVersion, test_object_1778)', 'elapsed': 0.4899934899985965}\n",
      "arn:aws:iam::14354624986284130233:user/user_35\n",
      "s3:GetObject\n",
      "test_object_2503\n",
      "sat\n",
      "{'result': False, 'params': {'num_role_groups': 100, 'roles_per_group': 4, 'role_branching_factor': 8, 'num_users': 100, 'max_n_objects': 4, 'max_n_actions': 3}, 'path_length': 12, 'num_roles': 269, 'q': 'Allow(arn:aws:iam::14354624986284130233:user/user_35, s3:GetObject, test_object_2503)', 'elapsed': 0.5782670810003765}\n",
      "arn:aws:iam::14354624986284130233:user/user_29\n",
      "s3:GetObjectRetention\n",
      "test_object_3096\n",
      "sat\n",
      "{'result': False, 'params': {'num_role_groups': 100, 'roles_per_group': 4, 'role_branching_factor': 10, 'num_users': 100, 'max_n_objects': 4, 'max_n_actions': 3}, 'path_length': 11, 'num_roles': 242, 'q': 'Allow(arn:aws:iam::14354624986284130233:user/user_29, s3:GetObjectRetention, test_object_3096)', 'elapsed': 0.5232485749984335}\n"
     ]
    },
    {
     "ename": "KeyboardInterrupt",
     "evalue": "",
     "output_type": "error",
     "traceback": [
      "\u001b[0;31m---------------------------------------------------------------------------\u001b[0m",
      "\u001b[0;31mKeyboardInterrupt\u001b[0m                         Traceback (most recent call last)",
      "Cell \u001b[0;32mIn[4], line 16\u001b[0m\n\u001b[1;32m     14\u001b[0m \u001b[39mfor\u001b[39;00m n \u001b[39min\u001b[39;00m branching_factors:\n\u001b[1;32m     15\u001b[0m     params1[\u001b[39m'\u001b[39m\u001b[39mrole_branching_factor\u001b[39m\u001b[39m'\u001b[39m] \u001b[39m=\u001b[39m n\n\u001b[0;32m---> 16\u001b[0m     r \u001b[39m=\u001b[39m perform_test(params1, n)\n\u001b[1;32m     17\u001b[0m     \u001b[39mprint\u001b[39m(r)\n\u001b[1;32m     18\u001b[0m     \u001b[39mif\u001b[39;00m r[\u001b[39m'\u001b[39m\u001b[39mpath_length\u001b[39m\u001b[39m'\u001b[39m] \u001b[39mnot\u001b[39;00m \u001b[39min\u001b[39;00m path_lengths:\n",
      "Cell \u001b[0;32mIn[3], line 11\u001b[0m, in \u001b[0;36mperform_test\u001b[0;34m(params, id)\u001b[0m\n\u001b[1;32m     10\u001b[0m \u001b[39mdef\u001b[39;00m \u001b[39mperform_test\u001b[39m(params, \u001b[39mid\u001b[39m):\n\u001b[0;32m---> 11\u001b[0m     test_instance \u001b[39m=\u001b[39m generate_iam_test(params)\n\u001b[1;32m     12\u001b[0m     (user, action, res, path_len) \u001b[39m=\u001b[39m test_instance\u001b[39m.\u001b[39mgenerate_allow_test()\n\u001b[1;32m     13\u001b[0m     \u001b[39mprint\u001b[39m(user)\n",
      "File \u001b[0;32m~/Dev/csc564Project/generate_access_graph.py:231\u001b[0m, in \u001b[0;36mgenerate_iam_test\u001b[0;34m(params)\u001b[0m\n\u001b[1;32m    228\u001b[0m all_policies \u001b[39m=\u001b[39m \u001b[39mlist\u001b[39m(\u001b[39mzip\u001b[39m(policy_arns, policy_dicts)) \u001b[39m+\u001b[39m \u001b[39mlist\u001b[39m(\u001b[39mzip\u001b[39m(role_arns, role_dicts))\n\u001b[1;32m    230\u001b[0m \u001b[39m#print(all_policies)\u001b[39;00m\n\u001b[0;32m--> 231\u001b[0m env \u001b[39m=\u001b[39m transpile(all_policies)\n\u001b[1;32m    233\u001b[0m \u001b[39mreturn\u001b[39;00m IAMTestConfiguration(params, env, role_to_user, role_to_pairs, nx\u001b[39m.\u001b[39mDiGraph(adj))\n",
      "File \u001b[0;32m~/Dev/csc564Project/policy.py:199\u001b[0m, in \u001b[0;36mtranspile\u001b[0;34m(policies)\u001b[0m\n\u001b[1;32m    198\u001b[0m \u001b[39mdef\u001b[39;00m \u001b[39mtranspile\u001b[39m(policies):\n\u001b[0;32m--> 199\u001b[0m     policy \u001b[39m=\u001b[39m createPolicyFunction(policies)\n\u001b[1;32m    201\u001b[0m     access \u001b[39m=\u001b[39m RecFunction(\u001b[39m'\u001b[39m\u001b[39mAccess\u001b[39m\u001b[39m'\u001b[39m, StringSort(), StringSort(), BoolSort())\n\u001b[1;32m    202\u001b[0m     u1, u2 \u001b[39m=\u001b[39m Strings(\u001b[39m'\u001b[39m\u001b[39mu1 u2\u001b[39m\u001b[39m'\u001b[39m)\n",
      "File \u001b[0;32m~/Dev/csc564Project/policy.py:119\u001b[0m, in \u001b[0;36mcreatePolicyFunction\u001b[0;34m(ls)\u001b[0m\n\u001b[1;32m    116\u001b[0m r \u001b[39m=\u001b[39m String(\u001b[39m'\u001b[39m\u001b[39mr\u001b[39m\u001b[39m'\u001b[39m)\n\u001b[1;32m    118\u001b[0m Policy \u001b[39m=\u001b[39m RecFunction(\u001b[39m'\u001b[39m\u001b[39mPolicy\u001b[39m\u001b[39m'\u001b[39m, BoolSort(), StringSort(), StringSort(), StringSort(), BoolSort())\n\u001b[0;32m--> 119\u001b[0m RecAddDefinition(Policy, [e, u, a, r], usePolicyConstraints(e, u, a, r, \n\u001b[1;32m    120\u001b[0m                     \u001b[39mlist\u001b[39;49m(\u001b[39mmap\u001b[39;49m(\u001b[39mlambda\u001b[39;49;00m user_policy: generatePolicyConstraints(\u001b[39m*\u001b[39;49muser_policy),ls))))\n\u001b[1;32m    122\u001b[0m \u001b[39mreturn\u001b[39;00m Policy\n",
      "File \u001b[0;32m~/Dev/csc564Project/policy.py:107\u001b[0m, in \u001b[0;36musePolicyConstraints\u001b[0;34m(e, u, a, r, ls)\u001b[0m\n\u001b[1;32m    104\u001b[0m     x1,x2,x3,x4 \u001b[39m=\u001b[39m l\n\u001b[1;32m    105\u001b[0m     \u001b[39mreturn\u001b[39;00m And(x1(e),x2(u),Or(\u001b[39mtuple\u001b[39m(\u001b[39mmap\u001b[39m(\u001b[39mlambda\u001b[39;00m x : x(a),x3))),Or(\u001b[39mtuple\u001b[39m(\u001b[39mmap\u001b[39m(\u001b[39mlambda\u001b[39;00m x : x(r),x4))))\n\u001b[0;32m--> 107\u001b[0m \u001b[39mreturn\u001b[39;00m Or(\u001b[39mlist\u001b[39;49m(\u001b[39mmap\u001b[39;49m(openParams,ls)))\n",
      "File \u001b[0;32m~/Dev/csc564Project/policy.py:105\u001b[0m, in \u001b[0;36musePolicyConstraints.<locals>.openParams\u001b[0;34m(l)\u001b[0m\n\u001b[1;32m    103\u001b[0m \u001b[39mdef\u001b[39;00m \u001b[39mopenParams\u001b[39m(l): \n\u001b[1;32m    104\u001b[0m     x1,x2,x3,x4 \u001b[39m=\u001b[39m l\n\u001b[0;32m--> 105\u001b[0m     \u001b[39mreturn\u001b[39;00m And(x1(e),x2(u),Or(\u001b[39mtuple\u001b[39m(\u001b[39mmap\u001b[39m(\u001b[39mlambda\u001b[39;00m x : x(a),x3))),Or(\u001b[39mtuple\u001b[39;49m(\u001b[39mmap\u001b[39;49m(\u001b[39mlambda\u001b[39;49;00m x : x(r),x4))))\n",
      "File \u001b[0;32m~/Dev/csc564Project/policy.py:105\u001b[0m, in \u001b[0;36musePolicyConstraints.<locals>.openParams.<locals>.<lambda>\u001b[0;34m(x)\u001b[0m\n\u001b[1;32m    103\u001b[0m \u001b[39mdef\u001b[39;00m \u001b[39mopenParams\u001b[39m(l): \n\u001b[1;32m    104\u001b[0m     x1,x2,x3,x4 \u001b[39m=\u001b[39m l\n\u001b[0;32m--> 105\u001b[0m     \u001b[39mreturn\u001b[39;00m And(x1(e),x2(u),Or(\u001b[39mtuple\u001b[39m(\u001b[39mmap\u001b[39m(\u001b[39mlambda\u001b[39;00m x : x(a),x3))),Or(\u001b[39mtuple\u001b[39m(\u001b[39mmap\u001b[39m(\u001b[39mlambda\u001b[39;00m x : x(r),x4))))\n",
      "File \u001b[0;32m~/Dev/csc564Project/policy.py:72\u001b[0m, in \u001b[0;36mconstructInRe.<locals>.<lambda>\u001b[0;34m(x)\u001b[0m\n\u001b[1;32m     71\u001b[0m \u001b[39mdef\u001b[39;00m \u001b[39mconstructInRe\u001b[39m(n):\n\u001b[0;32m---> 72\u001b[0m     \u001b[39mreturn\u001b[39;00m \u001b[39mlambda\u001b[39;00m x: InRe(x, iam_pattern_to_regex(n))\n",
      "File \u001b[0;32m~/Dev/csc564Project/id_match.py:47\u001b[0m, in \u001b[0;36miam_pattern_to_regex\u001b[0;34m(pattern)\u001b[0m\n\u001b[1;32m     44\u001b[0m wildcard_regexes \u001b[39m=\u001b[39m \u001b[39mlist\u001b[39m(\u001b[39mmap\u001b[39m(to_wildcard, wildcards))\n\u001b[1;32m     46\u001b[0m \u001b[39m# a list of z3 regexes for the non-wildcard components\u001b[39;00m\n\u001b[0;32m---> 47\u001b[0m const_regexes \u001b[39m=\u001b[39m \u001b[39mlist\u001b[39;49m(\u001b[39mmap\u001b[39;49m(z3\u001b[39m.\u001b[39;49mRe, parts))\n\u001b[1;32m     49\u001b[0m \u001b[39m# we split the list into [non-wildcard, wildcard] chunks, and add them all together, padding with the empty regex.\u001b[39;00m\n\u001b[1;32m     50\u001b[0m \u001b[39m# even if a wildcard occurs at the beginning or end a string, i.e. \"*abcd\", re.split will add an extra ''\u001b[39;00m\n\u001b[1;32m     51\u001b[0m \u001b[39m# so we will always have a (maybe empty) non-wildcard string before the wildcard\u001b[39;00m\n\u001b[1;32m     52\u001b[0m regex_components \u001b[39m=\u001b[39m itertools\u001b[39m.\u001b[39mchain(\u001b[39m*\u001b[39m([part, wildcard] \u001b[39mfor\u001b[39;00m (part, wildcard) \u001b[39min\u001b[39;00m itertools\u001b[39m.\u001b[39mzip_longest(const_regexes, wildcard_regexes, fillvalue\u001b[39m=\u001b[39mz3\u001b[39m.\u001b[39mRe(\u001b[39m'\u001b[39m\u001b[39m'\u001b[39m))))\n",
      "File \u001b[0;32m~/Dev/csc564Project/env/lib/python3.10/site-packages/z3/z3.py:11114\u001b[0m, in \u001b[0;36mRe\u001b[0;34m(s, ctx)\u001b[0m\n\u001b[1;32m  11108\u001b[0m \u001b[39mdef\u001b[39;00m \u001b[39mRe\u001b[39m(s, ctx\u001b[39m=\u001b[39m\u001b[39mNone\u001b[39;00m):\n\u001b[1;32m  11109\u001b[0m     \u001b[39m\"\"\"The regular expression that accepts sequence 's'\u001b[39;00m\n\u001b[1;32m  11110\u001b[0m \u001b[39m    >>> s1 = Re(\"ab\")\u001b[39;00m\n\u001b[1;32m  11111\u001b[0m \u001b[39m    >>> s2 = Re(StringVal(\"ab\"))\u001b[39;00m\n\u001b[1;32m  11112\u001b[0m \u001b[39m    >>> s3 = Re(Unit(BoolVal(True)))\u001b[39;00m\n\u001b[1;32m  11113\u001b[0m \u001b[39m    \"\"\"\u001b[39;00m\n\u001b[0;32m> 11114\u001b[0m     s \u001b[39m=\u001b[39m _coerce_seq(s, ctx)\n\u001b[1;32m  11115\u001b[0m     \u001b[39mreturn\u001b[39;00m ReRef(Z3_mk_seq_to_re(s\u001b[39m.\u001b[39mctx_ref(), s\u001b[39m.\u001b[39mas_ast()), s\u001b[39m.\u001b[39mctx)\n",
      "File \u001b[0;32m~/Dev/csc564Project/env/lib/python3.10/site-packages/z3/z3.py:10851\u001b[0m, in \u001b[0;36m_coerce_seq\u001b[0;34m(s, ctx)\u001b[0m\n\u001b[1;32m  10849\u001b[0m \u001b[39mif\u001b[39;00m \u001b[39misinstance\u001b[39m(s, \u001b[39mstr\u001b[39m):\n\u001b[1;32m  10850\u001b[0m     ctx \u001b[39m=\u001b[39m _get_ctx(ctx)\n\u001b[0;32m> 10851\u001b[0m     s \u001b[39m=\u001b[39m StringVal(s, ctx)\n\u001b[1;32m  10852\u001b[0m \u001b[39mif\u001b[39;00m \u001b[39mnot\u001b[39;00m is_expr(s):\n\u001b[1;32m  10853\u001b[0m     \u001b[39mraise\u001b[39;00m Z3Exception(\u001b[39m\"\u001b[39m\u001b[39mNon-expression passed as a sequence\u001b[39m\u001b[39m\"\u001b[39m)\n",
      "File \u001b[0;32m~/Dev/csc564Project/env/lib/python3.10/site-packages/z3/z3.py:10900\u001b[0m, in \u001b[0;36mStringVal\u001b[0;34m(s, ctx)\u001b[0m\n\u001b[1;32m  10898\u001b[0m s \u001b[39m=\u001b[39m \u001b[39m\"\u001b[39m\u001b[39m\"\u001b[39m\u001b[39m.\u001b[39mjoin(\u001b[39mstr\u001b[39m(ch) \u001b[39mif\u001b[39;00m \u001b[39m32\u001b[39m \u001b[39m<\u001b[39m\u001b[39m=\u001b[39m \u001b[39mord\u001b[39m(ch) \u001b[39mand\u001b[39;00m \u001b[39mord\u001b[39m(ch) \u001b[39m<\u001b[39m \u001b[39m127\u001b[39m \u001b[39melse\u001b[39;00m \u001b[39m\"\u001b[39m\u001b[39m\\\\\u001b[39;00m\u001b[39mu\u001b[39m\u001b[39m{\u001b[39m\u001b[39m%x\u001b[39;00m\u001b[39m}\u001b[39m\u001b[39m\"\u001b[39m \u001b[39m%\u001b[39m (\u001b[39mord\u001b[39m(ch)) \u001b[39mfor\u001b[39;00m ch \u001b[39min\u001b[39;00m s)\n\u001b[1;32m  10899\u001b[0m ctx \u001b[39m=\u001b[39m _get_ctx(ctx)\n\u001b[0;32m> 10900\u001b[0m \u001b[39mreturn\u001b[39;00m SeqRef(Z3_mk_string(ctx\u001b[39m.\u001b[39;49mref(), s), ctx)\n",
      "File \u001b[0;32m~/Dev/csc564Project/env/lib/python3.10/site-packages/z3/z3.py:347\u001b[0m, in \u001b[0;36mAstRef.__init__\u001b[0;34m(self, ast, ctx)\u001b[0m\n\u001b[1;32m    345\u001b[0m \u001b[39mdef\u001b[39;00m \u001b[39m__init__\u001b[39m(\u001b[39mself\u001b[39m, ast, ctx\u001b[39m=\u001b[39m\u001b[39mNone\u001b[39;00m):\n\u001b[1;32m    346\u001b[0m     \u001b[39mself\u001b[39m\u001b[39m.\u001b[39mast \u001b[39m=\u001b[39m ast\n\u001b[0;32m--> 347\u001b[0m     \u001b[39mself\u001b[39m\u001b[39m.\u001b[39mctx \u001b[39m=\u001b[39m _get_ctx(ctx)\n\u001b[1;32m    348\u001b[0m     Z3_inc_ref(\u001b[39mself\u001b[39m\u001b[39m.\u001b[39mctx\u001b[39m.\u001b[39mref(), \u001b[39mself\u001b[39m\u001b[39m.\u001b[39mas_ast())\n",
      "File \u001b[0;32m~/Dev/csc564Project/env/lib/python3.10/site-packages/z3/z3.py:260\u001b[0m, in \u001b[0;36m_get_ctx\u001b[0;34m(ctx)\u001b[0m\n\u001b[1;32m    256\u001b[0m         _main_ctx \u001b[39m=\u001b[39m Context()\n\u001b[1;32m    257\u001b[0m     \u001b[39mreturn\u001b[39;00m _main_ctx\n\u001b[0;32m--> 260\u001b[0m \u001b[39mdef\u001b[39;00m \u001b[39m_get_ctx\u001b[39m(ctx):\n\u001b[1;32m    261\u001b[0m     \u001b[39mif\u001b[39;00m ctx \u001b[39mis\u001b[39;00m \u001b[39mNone\u001b[39;00m:\n\u001b[1;32m    262\u001b[0m         \u001b[39mreturn\u001b[39;00m main_ctx()\n",
      "\u001b[0;31mKeyboardInterrupt\u001b[0m: "
     ]
    }
   ],
   "source": [
    "# test 1: 100 role groups, 100 users, vary path_length \n",
    "params1 = {\n",
    "    'num_role_groups': 100,\n",
    "    'roles_per_group': 4,\n",
    "    'role_branching_factor': 3,\n",
    "    'num_users': 100,\n",
    "    'max_n_objects': 4,\n",
    "    'max_n_actions': 3\n",
    "}\n",
    "\n",
    "branching_factors = [2*i for i in range(1, 20)]\n",
    "points = []\n",
    "path_lengths = []\n",
    "for n in branching_factors:\n",
    "    params1['role_branching_factor'] = n\n",
    "    r = perform_test(params1, n)\n",
    "    print(r)\n",
    "    if r['path_length'] not in path_lengths:\n",
    "        points.append(r['elapsed'])\n",
    "        path_lengths.append(r['path_length'])"
   ]
  },
  {
   "cell_type": "code",
   "execution_count": 3,
   "metadata": {},
   "outputs": [
    {
     "ename": "NameError",
     "evalue": "name 'plt' is not defined",
     "output_type": "error",
     "traceback": [
      "\u001b[0;31m---------------------------------------------------------------------------\u001b[0m",
      "\u001b[0;31mNameError\u001b[0m                                 Traceback (most recent call last)",
      "Cell \u001b[0;32mIn[3], line 1\u001b[0m\n\u001b[0;32m----> 1\u001b[0m plt\u001b[39m.\u001b[39mxlabel(\u001b[39m'\u001b[39m\u001b[39mPath Length in Role Graph\u001b[39m\u001b[39m'\u001b[39m)\n\u001b[1;32m      2\u001b[0m plt\u001b[39m.\u001b[39mylabel(\u001b[39m'\u001b[39m\u001b[39mExecution Time (s)\u001b[39m\u001b[39m'\u001b[39m)\n\u001b[1;32m      3\u001b[0m plt\u001b[39m.\u001b[39mplot(\u001b[39msorted\u001b[39m(path_lengths), points)\n",
      "\u001b[0;31mNameError\u001b[0m: name 'plt' is not defined"
     ]
    }
   ],
   "source": [
    "plt.xlabel('Path Length in Role Graph')\n",
    "plt.ylabel('Execution Time (s)')\n",
    "plt.plot(sorted(path_lengths), points)"
   ]
  },
  {
   "cell_type": "code",
   "execution_count": 10,
   "metadata": {},
   "outputs": [
    {
     "name": "stdout",
     "output_type": "stream",
     "text": [
      "arn:aws:iam::14354624986284130233:user/user_4\n",
      "s3:GetObjectAcl\n",
      "test_object_54747\n",
      "sat\n",
      "{'result': False, 'params': {'num_role_groups': 10, 'roles_per_group': 4, 'role_branching_factor': 3, 'num_users': 10, 'max_n_objects': 4, 'max_n_actions': 3}, 'path_length': 3, 'num_roles': 21, 'q': 'Allow(arn:aws:iam::14354624986284130233:user/user_4, s3:GetObjectAcl, test_object_54747)', 'elapsed': 0.506389604001015}\n",
      "arn:aws:iam::14354624986284130233:user/user_2\n",
      "s3:PutObject\n",
      "test_object_54865\n",
      "sat\n",
      "{'result': False, 'params': {'num_role_groups': 20, 'roles_per_group': 4, 'role_branching_factor': 3, 'num_users': 20, 'max_n_objects': 4, 'max_n_actions': 3}, 'path_length': 5, 'num_roles': 43, 'q': 'Allow(arn:aws:iam::14354624986284130233:user/user_2, s3:PutObject, test_object_54865)', 'elapsed': 0.17328534000080253}\n",
      "arn:aws:iam::14354624986284130233:user/user_28\n",
      "s3:InitiateReplication\n",
      "test_object_54982\n",
      "sat\n",
      "{'result': False, 'params': {'num_role_groups': 30, 'roles_per_group': 4, 'role_branching_factor': 3, 'num_users': 30, 'max_n_objects': 4, 'max_n_actions': 3}, 'path_length': 5, 'num_roles': 62, 'q': 'Allow(arn:aws:iam::14354624986284130233:user/user_28, s3:InitiateReplication, test_object_54982)', 'elapsed': 0.6034900269987702}\n",
      "arn:aws:iam::14354624986284130233:user/user_26\n",
      "s3:GetObject\n",
      "test_object_55239\n",
      "sat\n",
      "{'result': False, 'params': {'num_role_groups': 40, 'roles_per_group': 4, 'role_branching_factor': 3, 'num_users': 40, 'max_n_objects': 4, 'max_n_actions': 3}, 'path_length': 6, 'num_roles': 98, 'q': 'Allow(arn:aws:iam::14354624986284130233:user/user_26, s3:GetObject, test_object_55239)', 'elapsed': 0.3718258169992623}\n",
      "arn:aws:iam::14354624986284130233:user/user_21\n",
      "s3:PutObject\n",
      "test_object_55492\n",
      "sat\n",
      "{'result': False, 'params': {'num_role_groups': 50, 'roles_per_group': 4, 'role_branching_factor': 3, 'num_users': 50, 'max_n_objects': 4, 'max_n_actions': 3}, 'path_length': 4, 'num_roles': 128, 'q': 'Allow(arn:aws:iam::14354624986284130233:user/user_21, s3:PutObject, test_object_55492)', 'elapsed': 0.4853052109992859}\n",
      "arn:aws:iam::14354624986284130233:user/user_23\n",
      "s3:GetObject\n",
      "test_object_55887\n",
      "sat\n",
      "{'result': False, 'params': {'num_role_groups': 60, 'roles_per_group': 4, 'role_branching_factor': 3, 'num_users': 60, 'max_n_objects': 4, 'max_n_actions': 3}, 'path_length': 6, 'num_roles': 144, 'q': 'Allow(arn:aws:iam::14354624986284130233:user/user_23, s3:GetObject, test_object_55887)', 'elapsed': 0.6007223839988001}\n",
      "arn:aws:iam::14354624986284130233:user/user_48\n",
      "s3:DeleteObject\n",
      "test_object_56349\n",
      "sat\n",
      "{'result': False, 'params': {'num_role_groups': 70, 'roles_per_group': 4, 'role_branching_factor': 3, 'num_users': 70, 'max_n_objects': 4, 'max_n_actions': 3}, 'path_length': 6, 'num_roles': 186, 'q': 'Allow(arn:aws:iam::14354624986284130233:user/user_48, s3:DeleteObject, test_object_56349)', 'elapsed': 0.5969957399993291}\n",
      "arn:aws:iam::14354624986284130233:user/user_21\n",
      "s3:InitiateReplication\n",
      "test_object_56768\n",
      "sat\n",
      "{'result': False, 'params': {'num_role_groups': 80, 'roles_per_group': 4, 'role_branching_factor': 3, 'num_users': 80, 'max_n_objects': 4, 'max_n_actions': 3}, 'path_length': 5, 'num_roles': 203, 'q': 'Allow(arn:aws:iam::14354624986284130233:user/user_21, s3:InitiateReplication, test_object_56768)', 'elapsed': 0.5326282800015179}\n",
      "arn:aws:iam::14354624986284130233:user/user_60\n",
      "s3:DeleteObject\n",
      "test_object_57324\n",
      "sat\n",
      "{'result': False, 'params': {'num_role_groups': 90, 'roles_per_group': 4, 'role_branching_factor': 3, 'num_users': 90, 'max_n_objects': 4, 'max_n_actions': 3}, 'path_length': 7, 'num_roles': 213, 'q': 'Allow(arn:aws:iam::14354624986284130233:user/user_60, s3:DeleteObject, test_object_57324)', 'elapsed': 0.8263662749996001}\n",
      "arn:aws:iam::14354624986284130233:user/user_29\n",
      "s3:GetObject\n",
      "test_object_57991\n",
      "sat\n",
      "{'result': False, 'params': {'num_role_groups': 100, 'roles_per_group': 4, 'role_branching_factor': 3, 'num_users': 100, 'max_n_objects': 4, 'max_n_actions': 3}, 'path_length': 7, 'num_roles': 261, 'q': 'Allow(arn:aws:iam::14354624986284130233:user/user_29, s3:GetObject, test_object_57991)', 'elapsed': 0.7449024210000061}\n",
      "arn:aws:iam::14354624986284130233:user/user_57\n",
      "s3:DeleteObjectVersion\n",
      "test_object_58666\n",
      "sat\n",
      "{'result': False, 'params': {'num_role_groups': 110, 'roles_per_group': 4, 'role_branching_factor': 3, 'num_users': 110, 'max_n_objects': 4, 'max_n_actions': 3}, 'path_length': 7, 'num_roles': 285, 'q': 'Allow(arn:aws:iam::14354624986284130233:user/user_57, s3:DeleteObjectVersion, test_object_58666)', 'elapsed': 0.720185340000171}\n",
      "arn:aws:iam::14354624986284130233:user/user_63\n",
      "s3:DeleteObject\n",
      "test_object_59275\n",
      "sat\n",
      "{'result': False, 'params': {'num_role_groups': 120, 'roles_per_group': 4, 'role_branching_factor': 3, 'num_users': 120, 'max_n_objects': 4, 'max_n_actions': 3}, 'path_length': 8, 'num_roles': 298, 'q': 'Allow(arn:aws:iam::14354624986284130233:user/user_63, s3:DeleteObject, test_object_59275)', 'elapsed': 1.009496124999714}\n",
      "arn:aws:iam::14354624986284130233:user/user_102\n",
      "s3:GetObjectAcl\n",
      "test_object_60216\n",
      "sat\n",
      "{'result': False, 'params': {'num_role_groups': 130, 'roles_per_group': 4, 'role_branching_factor': 3, 'num_users': 130, 'max_n_objects': 4, 'max_n_actions': 3}, 'path_length': 7, 'num_roles': 321, 'q': 'Allow(arn:aws:iam::14354624986284130233:user/user_102, s3:GetObjectAcl, test_object_60216)', 'elapsed': 1.0758857410000928}\n",
      "arn:aws:iam::14354624986284130233:user/user_139\n",
      "s3:GetObject\n",
      "test_object_61002\n",
      "sat\n",
      "{'result': False, 'params': {'num_role_groups': 140, 'roles_per_group': 4, 'role_branching_factor': 3, 'num_users': 140, 'max_n_objects': 4, 'max_n_actions': 3}, 'path_length': 7, 'num_roles': 377, 'q': 'Allow(arn:aws:iam::14354624986284130233:user/user_139, s3:GetObject, test_object_61002)', 'elapsed': 1.2025567720011168}\n",
      "arn:aws:iam::14354624986284130233:user/user_116\n",
      "s3:GetObject\n",
      "test_object_62009\n",
      "sat\n",
      "{'result': False, 'params': {'num_role_groups': 150, 'roles_per_group': 4, 'role_branching_factor': 3, 'num_users': 150, 'max_n_objects': 4, 'max_n_actions': 3}, 'path_length': 9, 'num_roles': 368, 'q': 'Allow(arn:aws:iam::14354624986284130233:user/user_116, s3:GetObject, test_object_62009)', 'elapsed': 1.1008994029998576}\n",
      "arn:aws:iam::14354624986284130233:user/user_88\n",
      "s3:DeleteObject\n",
      "test_object_62481\n",
      "sat\n",
      "{'result': False, 'params': {'num_role_groups': 160, 'roles_per_group': 4, 'role_branching_factor': 3, 'num_users': 160, 'max_n_objects': 4, 'max_n_actions': 3}, 'path_length': 5, 'num_roles': 398, 'q': 'Allow(arn:aws:iam::14354624986284130233:user/user_88, s3:DeleteObject, test_object_62481)', 'elapsed': 1.325962442000673}\n",
      "arn:aws:iam::14354624986284130233:user/user_78\n",
      "s3:GetObjectRetention\n",
      "test_object_64065\n",
      "sat\n",
      "{'result': False, 'params': {'num_role_groups': 170, 'roles_per_group': 4, 'role_branching_factor': 3, 'num_users': 170, 'max_n_objects': 4, 'max_n_actions': 3}, 'path_length': 6, 'num_roles': 450, 'q': 'Allow(arn:aws:iam::14354624986284130233:user/user_78, s3:GetObjectRetention, test_object_64065)', 'elapsed': 1.8025600139990274}\n",
      "arn:aws:iam::14354624986284130233:user/user_59\n",
      "s3:DeleteObjectVersion\n",
      "test_object_65229\n",
      "sat\n",
      "{'result': False, 'params': {'num_role_groups': 180, 'roles_per_group': 4, 'role_branching_factor': 3, 'num_users': 180, 'max_n_objects': 4, 'max_n_actions': 3}, 'path_length': 7, 'num_roles': 449, 'q': 'Allow(arn:aws:iam::14354624986284130233:user/user_59, s3:DeleteObjectVersion, test_object_65229)', 'elapsed': 2.092796131000796}\n",
      "arn:aws:iam::14354624986284130233:user/user_133\n",
      "s3:DeleteObject\n",
      "test_object_66430\n",
      "sat\n",
      "{'result': False, 'params': {'num_role_groups': 190, 'roles_per_group': 4, 'role_branching_factor': 3, 'num_users': 190, 'max_n_objects': 4, 'max_n_actions': 3}, 'path_length': 6, 'num_roles': 467, 'q': 'Allow(arn:aws:iam::14354624986284130233:user/user_133, s3:DeleteObject, test_object_66430)', 'elapsed': 0.8205928610004776}\n",
      "arn:aws:iam::14354624986284130233:user/user_187\n",
      "s3:GetObjectRetention\n",
      "test_object_67470\n",
      "sat\n",
      "{'result': False, 'params': {'num_role_groups': 200, 'roles_per_group': 4, 'role_branching_factor': 3, 'num_users': 200, 'max_n_objects': 4, 'max_n_actions': 3}, 'path_length': 6, 'num_roles': 491, 'q': 'Allow(arn:aws:iam::14354624986284130233:user/user_187, s3:GetObjectRetention, test_object_67470)', 'elapsed': 2.8207975109999097}\n",
      "arn:aws:iam::14354624986284130233:user/user_10\n",
      "s3:GetObjectAcl\n",
      "test_object_68657\n",
      "sat\n",
      "{'result': False, 'params': {'num_role_groups': 210, 'roles_per_group': 4, 'role_branching_factor': 3, 'num_users': 210, 'max_n_objects': 4, 'max_n_actions': 3}, 'path_length': 8, 'num_roles': 499, 'q': 'Allow(arn:aws:iam::14354624986284130233:user/user_10, s3:GetObjectAcl, test_object_68657)', 'elapsed': 1.764160658000037}\n",
      "arn:aws:iam::14354624986284130233:user/user_36\n",
      "s3:InitiateReplication\n",
      "test_object_70127\n",
      "sat\n",
      "{'result': False, 'params': {'num_role_groups': 220, 'roles_per_group': 4, 'role_branching_factor': 3, 'num_users': 220, 'max_n_objects': 4, 'max_n_actions': 3}, 'path_length': 9, 'num_roles': 550, 'q': 'Allow(arn:aws:iam::14354624986284130233:user/user_36, s3:InitiateReplication, test_object_70127)', 'elapsed': 2.2491916969993326}\n",
      "arn:aws:iam::14354624986284130233:user/user_97\n",
      "s3:GetObjectRetention\n",
      "test_object_71465\n",
      "sat\n",
      "{'result': False, 'params': {'num_role_groups': 230, 'roles_per_group': 4, 'role_branching_factor': 3, 'num_users': 230, 'max_n_objects': 4, 'max_n_actions': 3}, 'path_length': 7, 'num_roles': 547, 'q': 'Allow(arn:aws:iam::14354624986284130233:user/user_97, s3:GetObjectRetention, test_object_71465)', 'elapsed': 2.8185344640005496}\n",
      "arn:aws:iam::14354624986284130233:user/user_61\n",
      "s3:GetObject\n",
      "test_object_72982\n",
      "sat\n",
      "{'result': False, 'params': {'num_role_groups': 240, 'roles_per_group': 4, 'role_branching_factor': 3, 'num_users': 240, 'max_n_objects': 4, 'max_n_actions': 3}, 'path_length': 7, 'num_roles': 592, 'q': 'Allow(arn:aws:iam::14354624986284130233:user/user_61, s3:GetObject, test_object_72982)', 'elapsed': 2.666747335999389}\n",
      "arn:aws:iam::14354624986284130233:user/user_223\n",
      "s3:GetObject\n",
      "test_object_74686\n",
      "sat\n",
      "{'result': False, 'params': {'num_role_groups': 250, 'roles_per_group': 4, 'role_branching_factor': 3, 'num_users': 250, 'max_n_objects': 4, 'max_n_actions': 3}, 'path_length': 7, 'num_roles': 640, 'q': 'Allow(arn:aws:iam::14354624986284130233:user/user_223, s3:GetObject, test_object_74686)', 'elapsed': 2.986961403999885}\n",
      "arn:aws:iam::14354624986284130233:user/user_81\n",
      "s3:PutObject\n",
      "test_object_75944\n",
      "sat\n",
      "{'result': False, 'params': {'num_role_groups': 260, 'roles_per_group': 4, 'role_branching_factor': 3, 'num_users': 260, 'max_n_objects': 4, 'max_n_actions': 3}, 'path_length': 6, 'num_roles': 660, 'q': 'Allow(arn:aws:iam::14354624986284130233:user/user_81, s3:PutObject, test_object_75944)', 'elapsed': 3.0019051909985137}\n",
      "arn:aws:iam::14354624986284130233:user/user_237\n",
      "s3:PutObject\n",
      "test_object_77811\n",
      "sat\n",
      "{'result': False, 'params': {'num_role_groups': 270, 'roles_per_group': 4, 'role_branching_factor': 3, 'num_users': 270, 'max_n_objects': 4, 'max_n_actions': 3}, 'path_length': 6, 'num_roles': 677, 'q': 'Allow(arn:aws:iam::14354624986284130233:user/user_237, s3:PutObject, test_object_77811)', 'elapsed': 5.454003601000295}\n",
      "arn:aws:iam::14354624986284130233:user/user_40\n",
      "s3:InitiateReplication\n",
      "test_object_79642\n",
      "sat\n",
      "{'result': False, 'params': {'num_role_groups': 280, 'roles_per_group': 4, 'role_branching_factor': 3, 'num_users': 280, 'max_n_objects': 4, 'max_n_actions': 3}, 'path_length': 6, 'num_roles': 690, 'q': 'Allow(arn:aws:iam::14354624986284130233:user/user_40, s3:InitiateReplication, test_object_79642)', 'elapsed': 3.680341944000247}\n",
      "arn:aws:iam::14354624986284130233:user/user_202\n",
      "s3:PutObject\n",
      "test_object_81294\n",
      "sat\n",
      "{'result': False, 'params': {'num_role_groups': 290, 'roles_per_group': 4, 'role_branching_factor': 3, 'num_users': 290, 'max_n_objects': 4, 'max_n_actions': 3}, 'path_length': 8, 'num_roles': 759, 'q': 'Allow(arn:aws:iam::14354624986284130233:user/user_202, s3:PutObject, test_object_81294)', 'elapsed': 4.285171065001123}\n",
      "arn:aws:iam::14354624986284130233:user/user_59\n",
      "s3:GetObject\n",
      "test_object_83461\n",
      "sat\n",
      "{'result': False, 'params': {'num_role_groups': 300, 'roles_per_group': 4, 'role_branching_factor': 3, 'num_users': 300, 'max_n_objects': 4, 'max_n_actions': 3}, 'path_length': 8, 'num_roles': 765, 'q': 'Allow(arn:aws:iam::14354624986284130233:user/user_59, s3:GetObject, test_object_83461)', 'elapsed': 4.133417469000051}\n",
      "arn:aws:iam::14354624986284130233:user/user_217\n",
      "s3:InitiateReplication\n",
      "test_object_85467\n",
      "sat\n",
      "{'result': False, 'params': {'num_role_groups': 310, 'roles_per_group': 4, 'role_branching_factor': 3, 'num_users': 310, 'max_n_objects': 4, 'max_n_actions': 3}, 'path_length': 6, 'num_roles': 767, 'q': 'Allow(arn:aws:iam::14354624986284130233:user/user_217, s3:InitiateReplication, test_object_85467)', 'elapsed': 4.012683983999523}\n",
      "arn:aws:iam::14354624986284130233:user/user_256\n",
      "s3:GetObject\n",
      "test_object_87013\n",
      "sat\n",
      "{'result': False, 'params': {'num_role_groups': 320, 'roles_per_group': 4, 'role_branching_factor': 3, 'num_users': 320, 'max_n_objects': 4, 'max_n_actions': 3}, 'path_length': 7, 'num_roles': 825, 'q': 'Allow(arn:aws:iam::14354624986284130233:user/user_256, s3:GetObject, test_object_87013)', 'elapsed': 5.28878976300075}\n",
      "arn:aws:iam::14354624986284130233:user/user_130\n",
      "s3:DeleteObject\n",
      "test_object_88915\n",
      "sat\n",
      "{'result': False, 'params': {'num_role_groups': 330, 'roles_per_group': 4, 'role_branching_factor': 3, 'num_users': 330, 'max_n_objects': 4, 'max_n_actions': 3}, 'path_length': 7, 'num_roles': 825, 'q': 'Allow(arn:aws:iam::14354624986284130233:user/user_130, s3:DeleteObject, test_object_88915)', 'elapsed': 4.562177132000215}\n",
      "arn:aws:iam::14354624986284130233:user/user_111\n",
      "s3:DeleteObject\n",
      "test_object_91696\n",
      "sat\n",
      "{'result': False, 'params': {'num_role_groups': 340, 'roles_per_group': 4, 'role_branching_factor': 3, 'num_users': 340, 'max_n_objects': 4, 'max_n_actions': 3}, 'path_length': 9, 'num_roles': 845, 'q': 'Allow(arn:aws:iam::14354624986284130233:user/user_111, s3:DeleteObject, test_object_91696)', 'elapsed': 7.572977737998372}\n",
      "arn:aws:iam::14354624986284130233:user/user_242\n",
      "s3:GetObjectRetention\n",
      "test_object_93844\n",
      "sat\n",
      "{'result': False, 'params': {'num_role_groups': 350, 'roles_per_group': 4, 'role_branching_factor': 3, 'num_users': 350, 'max_n_objects': 4, 'max_n_actions': 3}, 'path_length': 9, 'num_roles': 906, 'q': 'Allow(arn:aws:iam::14354624986284130233:user/user_242, s3:GetObjectRetention, test_object_93844)', 'elapsed': 5.722103428999617}\n",
      "arn:aws:iam::14354624986284130233:user/user_183\n",
      "s3:PutObject\n",
      "test_object_95671\n",
      "sat\n",
      "{'result': False, 'params': {'num_role_groups': 360, 'roles_per_group': 4, 'role_branching_factor': 3, 'num_users': 360, 'max_n_objects': 4, 'max_n_actions': 3}, 'path_length': 7, 'num_roles': 899, 'q': 'Allow(arn:aws:iam::14354624986284130233:user/user_183, s3:PutObject, test_object_95671)', 'elapsed': 7.205233734999638}\n",
      "arn:aws:iam::14354624986284130233:user/user_135\n",
      "s3:PutObject\n",
      "test_object_98544\n",
      "sat\n",
      "{'result': False, 'params': {'num_role_groups': 370, 'roles_per_group': 4, 'role_branching_factor': 3, 'num_users': 370, 'max_n_objects': 4, 'max_n_actions': 3}, 'path_length': 9, 'num_roles': 963, 'q': 'Allow(arn:aws:iam::14354624986284130233:user/user_135, s3:PutObject, test_object_98544)', 'elapsed': 6.539846231000411}\n",
      "arn:aws:iam::14354624986284130233:user/user_314\n",
      "s3:GetObject\n",
      "test_object_100811\n",
      "sat\n",
      "{'result': False, 'params': {'num_role_groups': 380, 'roles_per_group': 4, 'role_branching_factor': 3, 'num_users': 380, 'max_n_objects': 4, 'max_n_actions': 3}, 'path_length': 7, 'num_roles': 923, 'q': 'Allow(arn:aws:iam::14354624986284130233:user/user_314, s3:GetObject, test_object_100811)', 'elapsed': 9.92272224000044}\n",
      "arn:aws:iam::14354624986284130233:user/user_7\n",
      "s3:InitiateReplication\n",
      "test_object_102807\n",
      "sat\n",
      "{'result': False, 'params': {'num_role_groups': 390, 'roles_per_group': 4, 'role_branching_factor': 3, 'num_users': 390, 'max_n_objects': 4, 'max_n_actions': 3}, 'path_length': 9, 'num_roles': 950, 'q': 'Allow(arn:aws:iam::14354624986284130233:user/user_7, s3:InitiateReplication, test_object_102807)', 'elapsed': 10.002669622001122}\n",
      "arn:aws:iam::14354624986284130233:user/user_292\n",
      "s3:InitiateReplication\n",
      "test_object_105573\n",
      "sat\n",
      "{'result': False, 'params': {'num_role_groups': 400, 'roles_per_group': 4, 'role_branching_factor': 3, 'num_users': 400, 'max_n_objects': 4, 'max_n_actions': 3}, 'path_length': 7, 'num_roles': 1040, 'q': 'Allow(arn:aws:iam::14354624986284130233:user/user_292, s3:InitiateReplication, test_object_105573)', 'elapsed': 10.504037630998937}\n",
      "arn:aws:iam::14354624986284130233:user/user_369\n",
      "s3:DeleteObjectVersion\n",
      "test_object_108107\n",
      "sat\n",
      "{'result': False, 'params': {'num_role_groups': 410, 'roles_per_group': 4, 'role_branching_factor': 3, 'num_users': 410, 'max_n_objects': 4, 'max_n_actions': 3}, 'path_length': 8, 'num_roles': 994, 'q': 'Allow(arn:aws:iam::14354624986284130233:user/user_369, s3:DeleteObjectVersion, test_object_108107)', 'elapsed': 8.312356409000131}\n",
      "arn:aws:iam::14354624986284130233:user/user_285\n",
      "s3:GetObjectRetention\n",
      "test_object_110802\n",
      "sat\n",
      "{'result': False, 'params': {'num_role_groups': 420, 'roles_per_group': 4, 'role_branching_factor': 3, 'num_users': 420, 'max_n_objects': 4, 'max_n_actions': 3}, 'path_length': 7, 'num_roles': 1028, 'q': 'Allow(arn:aws:iam::14354624986284130233:user/user_285, s3:GetObjectRetention, test_object_110802)', 'elapsed': 6.392430392999813}\n",
      "arn:aws:iam::14354624986284130233:user/user_178\n",
      "s3:DeleteObjectVersion\n",
      "test_object_113236\n",
      "sat\n",
      "{'result': False, 'params': {'num_role_groups': 430, 'roles_per_group': 4, 'role_branching_factor': 3, 'num_users': 430, 'max_n_objects': 4, 'max_n_actions': 3}, 'path_length': 8, 'num_roles': 1064, 'q': 'Allow(arn:aws:iam::14354624986284130233:user/user_178, s3:DeleteObjectVersion, test_object_113236)', 'elapsed': 9.005452735998915}\n",
      "arn:aws:iam::14354624986284130233:user/user_179\n",
      "s3:InitiateReplication\n",
      "test_object_116170\n",
      "sat\n",
      "{'result': False, 'params': {'num_role_groups': 440, 'roles_per_group': 4, 'role_branching_factor': 3, 'num_users': 440, 'max_n_objects': 4, 'max_n_actions': 3}, 'path_length': 8, 'num_roles': 1059, 'q': 'Allow(arn:aws:iam::14354624986284130233:user/user_179, s3:InitiateReplication, test_object_116170)', 'elapsed': 10.353992820999338}\n",
      "arn:aws:iam::14354624986284130233:user/user_13\n",
      "s3:GetObject\n",
      "test_object_118602\n",
      "sat\n",
      "{'result': False, 'params': {'num_role_groups': 450, 'roles_per_group': 4, 'role_branching_factor': 3, 'num_users': 450, 'max_n_objects': 4, 'max_n_actions': 3}, 'path_length': 9, 'num_roles': 1131, 'q': 'Allow(arn:aws:iam::14354624986284130233:user/user_13, s3:GetObject, test_object_118602)', 'elapsed': 8.764639441998952}\n",
      "arn:aws:iam::14354624986284130233:user/user_451\n",
      "s3:DeleteObjectVersion\n",
      "test_object_121781\n",
      "sat\n",
      "{'result': False, 'params': {'num_role_groups': 460, 'roles_per_group': 4, 'role_branching_factor': 3, 'num_users': 460, 'max_n_objects': 4, 'max_n_actions': 3}, 'path_length': 10, 'num_roles': 1141, 'q': 'Allow(arn:aws:iam::14354624986284130233:user/user_451, s3:DeleteObjectVersion, test_object_121781)', 'elapsed': 10.977717558000222}\n",
      "arn:aws:iam::14354624986284130233:user/user_20\n",
      "sts:AssumeRole\n",
      "arn:aws:iam::14354624986284130233:role/role_r456_4\n",
      "sat\n",
      "{'result': False, 'params': {'num_role_groups': 470, 'roles_per_group': 4, 'role_branching_factor': 3, 'num_users': 470, 'max_n_objects': 4, 'max_n_actions': 3}, 'path_length': 7, 'num_roles': 1161, 'q': 'Allow(arn:aws:iam::14354624986284130233:user/user_20, sts:AssumeRole, arn:aws:iam::14354624986284130233:role/role_r456_4)', 'elapsed': 30.577910236001117}\n",
      "arn:aws:iam::14354624986284130233:user/user_403\n",
      "s3:DeleteObject\n",
      "test_object_127457\n",
      "sat\n",
      "{'result': False, 'params': {'num_role_groups': 480, 'roles_per_group': 4, 'role_branching_factor': 3, 'num_users': 480, 'max_n_objects': 4, 'max_n_actions': 3}, 'path_length': 8, 'num_roles': 1200, 'q': 'Allow(arn:aws:iam::14354624986284130233:user/user_403, s3:DeleteObject, test_object_127457)', 'elapsed': 13.009938555998815}\n",
      "arn:aws:iam::14354624986284130233:user/user_311\n",
      "s3:DeleteObject\n",
      "test_object_130583\n",
      "sat\n",
      "{'result': False, 'params': {'num_role_groups': 490, 'roles_per_group': 4, 'role_branching_factor': 3, 'num_users': 490, 'max_n_objects': 4, 'max_n_actions': 3}, 'path_length': 7, 'num_roles': 1154, 'q': 'Allow(arn:aws:iam::14354624986284130233:user/user_311, s3:DeleteObject, test_object_130583)', 'elapsed': 10.468568500000401}\n"
     ]
    }
   ],
   "source": [
    "# test 2: vary users and number of role groups (i.e., number of roles ~= k*n_users)\n",
    "params2 = {\n",
    "    'num_role_groups': 100,\n",
    "    'roles_per_group': 4,\n",
    "    'role_branching_factor': 3,\n",
    "    'num_users': 100,\n",
    "    'max_n_objects': 4,\n",
    "    'max_n_actions': 3\n",
    "}\n",
    "\n",
    "sizes = [10*i for i in range(1, 50)]\n",
    "points = []\n",
    "for n in sizes:\n",
    "    params2['num_users'] = n\n",
    "    params2['num_role_groups'] = n\n",
    "    r = perform_test(params2, n)\n",
    "    print(r)\n",
    "    points.append(r['elapsed'])\n"
   ]
  },
  {
   "cell_type": "code",
   "execution_count": 11,
   "metadata": {},
   "outputs": [
    {
     "data": {
      "text/plain": [
       "[<matplotlib.lines.Line2D at 0x1234300a0>]"
      ]
     },
     "execution_count": 11,
     "metadata": {},
     "output_type": "execute_result"
    },
    {
     "data": {
      "image/png": "[encoded data removed]",
      "text/plain": [
       "<Figure size 640x480 with 1 Axes>"
      ]
     },
     "metadata": {},
     "output_type": "display_data"
    }
   ],
   "source": [
    "plt.xlabel('Number of Users/Role Groups')\n",
    "plt.ylabel('Execution Time (s)')\n",
    "plt.plot(sizes, points)"
   ]
  },
  {
   "cell_type": "code",
   "execution_count": 1,
   "metadata": {},
   "outputs": [],
   "source": [
    "params7 = {\n",
    "    'num_role_groups': 80,\n",
    "    'roles_per_group': 4,\n",
    "    'role_branching_factor': 3,\n",
    "    'num_users': 240,\n",
    "    'max_n_objects': 4,\n",
    "    'max_n_actions': 3\n",
    "}\n",
    "\n",
    "params8 = {\n",
    "    'num_role_groups': 160,\n",
    "    'roles_per_group': 4,\n",
    "    'role_branching_factor': 3,\n",
    "    'num_users': 480,\n",
    "    'max_n_objects': 4,\n",
    "    'max_n_actions': 3\n",
    "}\n",
    "\n",
    "params9 = {\n",
    "    'num_role_groups': 320,\n",
    "    'roles_per_group': 4,\n",
    "    'role_branching_factor': 3,\n",
    "    'num_users': 960,\n",
    "    'max_n_objects': 4,\n",
    "    'max_n_actions': 3\n",
    "}"
   ]
  },
  {
   "cell_type": "code",
   "execution_count": 11,
   "metadata": {},
   "outputs": [
    {
     "name": "stdout",
     "output_type": "stream",
     "text": [
      "arn:aws:iam::14354624986284130233:user/user_63\n",
      "s3:DeleteObject\n",
      "test_object_48934\n",
      "sat\n"
     ]
    },
    {
     "data": {
      "text/plain": [
       "{'result': False,\n",
       " 'params': {'num_role_groups': 80,\n",
       "  'roles_per_group': 4,\n",
       "  'role_branching_factor': 3,\n",
       "  'num_users': 240,\n",
       "  'max_n_objects': 4,\n",
       "  'max_n_actions': 3},\n",
       " 'path_length': 7,\n",
       " 'num_roles': 206,\n",
       " 'q': 'Allow(arn:aws:iam::14354624986284130233:user/user_63, s3:DeleteObject, test_object_48934)',\n",
       " 'elapsed': 20.941573382999195}"
      ]
     },
     "execution_count": 11,
     "metadata": {},
     "output_type": "execute_result"
    }
   ],
   "source": [
    "perform_test(params7, id=1)"
   ]
  },
  {
   "cell_type": "code",
   "execution_count": 6,
   "metadata": {},
   "outputs": [
    {
     "name": "stdout",
     "output_type": "stream",
     "text": [
      "arn:aws:iam::14354624986284130233:user/user_137\n",
      "s3:GetObjectRetention\n",
      "test_object_5828\n",
      "sat\n"
     ]
    },
    {
     "data": {
      "text/plain": [
       "{'result': False,\n",
       " 'params': {'num_role_groups': 320,\n",
       "  'roles_per_group': 4,\n",
       "  'role_branching_factor': 3,\n",
       "  'num_users': 960,\n",
       "  'max_n_objects': 4,\n",
       "  'max_n_actions': 3},\n",
       " 'path_length': 9,\n",
       " 'num_roles': 784,\n",
       " 'q': 'Allow(arn:aws:iam::14354624986284130233:user/user_137, s3:GetObjectRetention, test_object_5828)',\n",
       " 'elapsed': 115.57802481300018}"
      ]
     },
     "execution_count": 6,
     "metadata": {},
     "output_type": "execute_result"
    }
   ],
   "source": [
    "perform_test(params9, id=2)"
   ]
  },
  {
   "cell_type": "code",
   "execution_count": 18,
   "metadata": {},
   "outputs": [
    {
     "name": "stdout",
     "output_type": "stream",
     "text": [
      "arn:aws:iam::14354624986284130233:user/user_164\n",
      "s3:GetObjectRetention\n",
      "test_object_52004\n",
      "sat\n"
     ]
    },
    {
     "data": {
      "text/plain": [
       "{'result': False,\n",
       " 'params': {'num_role_groups': 160,\n",
       "  'roles_per_group': 4,\n",
       "  'role_branching_factor': 3,\n",
       "  'num_users': 480,\n",
       "  'max_n_objects': 4,\n",
       "  'max_n_actions': 3},\n",
       " 'path_length': 9,\n",
       " 'num_roles': 426,\n",
       " 'q': 'Allow(arn:aws:iam::14354624986284130233:user/user_164, s3:GetObjectRetention, test_object_52004)',\n",
       " 'elapsed': 30.273361627998383}"
      ]
     },
     "execution_count": 18,
     "metadata": {},
     "output_type": "execute_result"
    }
   ],
   "source": [
    "perform_test(params8, id=3)"
   ]
  },
  {
   "cell_type": "code",
   "execution_count": 3,
   "metadata": {},
   "outputs": [
    {
     "name": "stdout",
     "output_type": "stream",
     "text": [
      "{'result': [sat, sat, sat, sat, sat, sat, sat, sat, sat, sat], 'params': {'num_role_groups': 10, 'roles_per_group': 4, 'role_branching_factor': 3, 'num_users': 10, 'max_n_objects': 4, 'max_n_actions': 3}, 'num_roles': 16, 'avg_elapsed': 0.09093979109929932}\n",
      "{'result': [sat, sat, sat, sat, sat, sat, sat, sat, sat, sat], 'params': {'num_role_groups': 20, 'roles_per_group': 4, 'role_branching_factor': 3, 'num_users': 20, 'max_n_objects': 4, 'max_n_actions': 3}, 'num_roles': 60, 'avg_elapsed': 0.11363584390019241}\n",
      "{'result': [sat, sat, sat, sat, sat, sat, sat, sat, sat, sat], 'params': {'num_role_groups': 30, 'roles_per_group': 4, 'role_branching_factor': 3, 'num_users': 30, 'max_n_objects': 4, 'max_n_actions': 3}, 'num_roles': 81, 'avg_elapsed': 0.2232736482994369}\n",
      "{'result': [sat, sat, sat, sat, sat, sat, sat, sat, sat, sat], 'params': {'num_role_groups': 40, 'roles_per_group': 4, 'role_branching_factor': 3, 'num_users': 40, 'max_n_objects': 4, 'max_n_actions': 3}, 'num_roles': 104, 'avg_elapsed': 0.165665681199971}\n",
      "{'result': [sat, sat, sat, sat, sat, sat, sat, sat, sat, sat], 'params': {'num_role_groups': 50, 'roles_per_group': 4, 'role_branching_factor': 3, 'num_users': 50, 'max_n_objects': 4, 'max_n_actions': 3}, 'num_roles': 142, 'avg_elapsed': 0.5095305655999255}\n",
      "{'result': [sat, sat, sat, sat, sat, sat, sat, sat, sat, sat], 'params': {'num_role_groups': 60, 'roles_per_group': 4, 'role_branching_factor': 3, 'num_users': 60, 'max_n_objects': 4, 'max_n_actions': 3}, 'num_roles': 144, 'avg_elapsed': 0.5664169975996629}\n",
      "{'result': [sat, sat, sat, sat, sat, sat, sat, sat, sat, sat], 'params': {'num_role_groups': 70, 'roles_per_group': 4, 'role_branching_factor': 3, 'num_users': 70, 'max_n_objects': 4, 'max_n_actions': 3}, 'num_roles': 180, 'avg_elapsed': 0.3535040050999669}\n",
      "{'result': [sat, sat, sat, sat, sat, sat, sat, sat, sat, sat], 'params': {'num_role_groups': 80, 'roles_per_group': 4, 'role_branching_factor': 3, 'num_users': 80, 'max_n_objects': 4, 'max_n_actions': 3}, 'num_roles': 201, 'avg_elapsed': 0.42389484379964415}\n",
      "{'result': [sat, sat, sat, sat, sat, sat, sat, sat, sat, sat], 'params': {'num_role_groups': 90, 'roles_per_group': 4, 'role_branching_factor': 3, 'num_users': 90, 'max_n_objects': 4, 'max_n_actions': 3}, 'num_roles': 218, 'avg_elapsed': 0.4679946268995991}\n",
      "{'result': [sat, sat, sat, sat, sat, sat, sat, sat, sat, sat], 'params': {'num_role_groups': 100, 'roles_per_group': 4, 'role_branching_factor': 3, 'num_users': 100, 'max_n_objects': 4, 'max_n_actions': 3}, 'num_roles': 250, 'avg_elapsed': 2.0337869123002745}\n",
      "{'result': [sat, sat, sat, sat, sat, sat, sat, sat, sat, sat], 'params': {'num_role_groups': 110, 'roles_per_group': 4, 'role_branching_factor': 3, 'num_users': 110, 'max_n_objects': 4, 'max_n_actions': 3}, 'num_roles': 291, 'avg_elapsed': 0.5644845737995638}\n",
      "{'result': [sat, sat, sat, sat, sat, sat, sat, sat, sat, sat], 'params': {'num_role_groups': 120, 'roles_per_group': 4, 'role_branching_factor': 3, 'num_users': 120, 'max_n_objects': 4, 'max_n_actions': 3}, 'num_roles': 304, 'avg_elapsed': 0.6725353405996429}\n",
      "{'result': [sat, sat, sat, sat, sat, sat, sat, sat, sat, sat], 'params': {'num_role_groups': 130, 'roles_per_group': 4, 'role_branching_factor': 3, 'num_users': 130, 'max_n_objects': 4, 'max_n_actions': 3}, 'num_roles': 329, 'avg_elapsed': 1.539053193199652}\n",
      "{'result': [sat, sat, sat, sat, sat, sat, sat, sat, sat, sat], 'params': {'num_role_groups': 140, 'roles_per_group': 4, 'role_branching_factor': 3, 'num_users': 140, 'max_n_objects': 4, 'max_n_actions': 3}, 'num_roles': 342, 'avg_elapsed': 0.9289088790006644}\n",
      "{'result': [sat, sat, sat, sat, sat, sat, sat, sat, sat, sat], 'params': {'num_role_groups': 150, 'roles_per_group': 4, 'role_branching_factor': 3, 'num_users': 150, 'max_n_objects': 4, 'max_n_actions': 3}, 'num_roles': 368, 'avg_elapsed': 2.7996167196997703}\n",
      "{'result': [sat, sat, sat, sat, sat, sat, sat, sat, sat, sat], 'params': {'num_role_groups': 160, 'roles_per_group': 4, 'role_branching_factor': 3, 'num_users': 160, 'max_n_objects': 4, 'max_n_actions': 3}, 'num_roles': 422, 'avg_elapsed': 2.913765759000307}\n",
      "{'result': [sat, sat, sat, sat, sat, sat, sat, sat, sat, sat], 'params': {'num_role_groups': 170, 'roles_per_group': 4, 'role_branching_factor': 3, 'num_users': 170, 'max_n_objects': 4, 'max_n_actions': 3}, 'num_roles': 432, 'avg_elapsed': 1.191331229399657}\n",
      "{'result': [sat, sat, sat, sat, sat, sat, sat, sat, sat, sat], 'params': {'num_role_groups': 180, 'roles_per_group': 4, 'role_branching_factor': 3, 'num_users': 180, 'max_n_objects': 4, 'max_n_actions': 3}, 'num_roles': 462, 'avg_elapsed': 5.235081839600388}\n",
      "{'result': [sat, sat, sat, sat, sat, sat, sat, sat, sat, sat], 'params': {'num_role_groups': 190, 'roles_per_group': 4, 'role_branching_factor': 3, 'num_users': 190, 'max_n_objects': 4, 'max_n_actions': 3}, 'num_roles': 496, 'avg_elapsed': 1.4920993332998478}\n",
      "{'result': [sat, sat, sat, sat, sat, sat, sat, sat, sat, sat], 'params': {'num_role_groups': 200, 'roles_per_group': 4, 'role_branching_factor': 3, 'num_users': 200, 'max_n_objects': 4, 'max_n_actions': 3}, 'num_roles': 509, 'avg_elapsed': 5.983645982100279}\n",
      "{'result': [sat, sat, sat, sat, sat, sat, sat, sat, sat, sat], 'params': {'num_role_groups': 210, 'roles_per_group': 4, 'role_branching_factor': 3, 'num_users': 210, 'max_n_objects': 4, 'max_n_actions': 3}, 'num_roles': 529, 'avg_elapsed': 1.5960720032995597}\n",
      "{'result': [sat, sat, sat, sat, sat, sat, sat, sat, sat, sat], 'params': {'num_role_groups': 220, 'roles_per_group': 4, 'role_branching_factor': 3, 'num_users': 220, 'max_n_objects': 4, 'max_n_actions': 3}, 'num_roles': 555, 'avg_elapsed': 4.036536864799928}\n",
      "{'result': [sat, sat, sat, sat, sat, sat, sat, sat, sat, sat], 'params': {'num_role_groups': 230, 'roles_per_group': 4, 'role_branching_factor': 3, 'num_users': 230, 'max_n_objects': 4, 'max_n_actions': 3}, 'num_roles': 580, 'avg_elapsed': 5.058390029800648}\n",
      "{'result': [sat, sat, sat, sat, sat, sat, sat, sat, sat, sat], 'params': {'num_role_groups': 240, 'roles_per_group': 4, 'role_branching_factor': 3, 'num_users': 240, 'max_n_objects': 4, 'max_n_actions': 3}, 'num_roles': 559, 'avg_elapsed': 3.7083924066999314}\n",
      "{'result': [sat, sat, sat, sat, sat, sat, sat, sat, sat, sat], 'params': {'num_role_groups': 250, 'roles_per_group': 4, 'role_branching_factor': 3, 'num_users': 250, 'max_n_objects': 4, 'max_n_actions': 3}, 'num_roles': 662, 'avg_elapsed': 2.557241495400376}\n",
      "{'result': [sat, sat, sat, sat, sat, sat, sat, sat, sat, sat], 'params': {'num_role_groups': 260, 'roles_per_group': 4, 'role_branching_factor': 3, 'num_users': 260, 'max_n_objects': 4, 'max_n_actions': 3}, 'num_roles': 663, 'avg_elapsed': 9.637822568299816}\n",
      "{'result': [sat, sat, sat, sat, sat, sat, sat, sat, sat, sat], 'params': {'num_role_groups': 270, 'roles_per_group': 4, 'role_branching_factor': 3, 'num_users': 270, 'max_n_objects': 4, 'max_n_actions': 3}, 'num_roles': 656, 'avg_elapsed': 13.894040209599916}\n",
      "{'result': [sat, sat, sat, sat, sat, sat, sat, sat, sat, sat], 'params': {'num_role_groups': 280, 'roles_per_group': 4, 'role_branching_factor': 3, 'num_users': 280, 'max_n_objects': 4, 'max_n_actions': 3}, 'num_roles': 716, 'avg_elapsed': 15.806020827800603}\n",
      "{'result': [sat, sat, sat, sat, sat, sat, sat, sat, sat, sat], 'params': {'num_role_groups': 290, 'roles_per_group': 4, 'role_branching_factor': 3, 'num_users': 290, 'max_n_objects': 4, 'max_n_actions': 3}, 'num_roles': 737, 'avg_elapsed': 8.912753916300062}\n",
      "{'result': [sat, sat, sat, sat, sat, sat, sat, sat, sat, sat], 'params': {'num_role_groups': 300, 'roles_per_group': 4, 'role_branching_factor': 3, 'num_users': 300, 'max_n_objects': 4, 'max_n_actions': 3}, 'num_roles': 787, 'avg_elapsed': 15.104217922799581}\n",
      "{'result': [sat, sat, sat, sat, sat, sat, sat, sat, sat, sat], 'params': {'num_role_groups': 310, 'roles_per_group': 4, 'role_branching_factor': 3, 'num_users': 310, 'max_n_objects': 4, 'max_n_actions': 3}, 'num_roles': 799, 'avg_elapsed': 3.9029127737005185}\n",
      "{'result': [sat, sat, sat, sat, sat, sat, sat, sat, sat, sat], 'params': {'num_role_groups': 320, 'roles_per_group': 4, 'role_branching_factor': 3, 'num_users': 320, 'max_n_objects': 4, 'max_n_actions': 3}, 'num_roles': 802, 'avg_elapsed': 15.596832986900335}\n",
      "{'result': [sat, sat, sat, sat, sat, sat, sat, sat, sat, sat], 'params': {'num_role_groups': 330, 'roles_per_group': 4, 'role_branching_factor': 3, 'num_users': 330, 'max_n_objects': 4, 'max_n_actions': 3}, 'num_roles': 822, 'avg_elapsed': 19.51682314069949}\n",
      "{'result': [sat, sat, sat, sat, sat, sat, sat, sat, sat, sat], 'params': {'num_role_groups': 340, 'roles_per_group': 4, 'role_branching_factor': 3, 'num_users': 340, 'max_n_objects': 4, 'max_n_actions': 3}, 'num_roles': 838, 'avg_elapsed': 13.708628972899533}\n",
      "{'result': [sat, sat, sat, sat, sat, sat, sat, sat, sat, sat], 'params': {'num_role_groups': 350, 'roles_per_group': 4, 'role_branching_factor': 3, 'num_users': 350, 'max_n_objects': 4, 'max_n_actions': 3}, 'num_roles': 837, 'avg_elapsed': 18.661591517000126}\n",
      "{'result': [sat, sat, sat, sat, sat, sat, sat, sat, sat, sat], 'params': {'num_role_groups': 360, 'roles_per_group': 4, 'role_branching_factor': 3, 'num_users': 360, 'max_n_objects': 4, 'max_n_actions': 3}, 'num_roles': 905, 'avg_elapsed': 5.062319033900349}\n",
      "{'result': [sat, sat, sat, sat, sat, sat, sat, sat, sat, sat], 'params': {'num_role_groups': 370, 'roles_per_group': 4, 'role_branching_factor': 3, 'num_users': 370, 'max_n_objects': 4, 'max_n_actions': 3}, 'num_roles': 909, 'avg_elapsed': 12.196286186399812}\n",
      "{'result': [sat, sat, sat, sat, sat, sat, sat, sat, sat, sat], 'params': {'num_role_groups': 380, 'roles_per_group': 4, 'role_branching_factor': 3, 'num_users': 380, 'max_n_objects': 4, 'max_n_actions': 3}, 'num_roles': 937, 'avg_elapsed': 26.00687389379964}\n",
      "{'result': [sat, sat, sat, sat, sat, sat, sat, sat, sat, sat], 'params': {'num_role_groups': 390, 'roles_per_group': 4, 'role_branching_factor': 3, 'num_users': 390, 'max_n_objects': 4, 'max_n_actions': 3}, 'num_roles': 994, 'avg_elapsed': 25.597801702099968}\n",
      "{'result': [sat, sat, sat, sat, sat, sat, sat, sat, sat, sat], 'params': {'num_role_groups': 400, 'roles_per_group': 4, 'role_branching_factor': 3, 'num_users': 400, 'max_n_objects': 4, 'max_n_actions': 3}, 'num_roles': 992, 'avg_elapsed': 19.65244620230005}\n",
      "{'result': [sat, sat, sat, sat, sat, sat, sat, sat, sat, sat], 'params': {'num_role_groups': 410, 'roles_per_group': 4, 'role_branching_factor': 3, 'num_users': 410, 'max_n_objects': 4, 'max_n_actions': 3}, 'num_roles': 1040, 'avg_elapsed': 8.98541278670018}\n",
      "{'result': [sat, sat, sat, sat, sat, sat, sat, sat, sat, sat], 'params': {'num_role_groups': 420, 'roles_per_group': 4, 'role_branching_factor': 3, 'num_users': 420, 'max_n_objects': 4, 'max_n_actions': 3}, 'num_roles': 1066, 'avg_elapsed': 9.548413383000298}\n",
      "{'result': [sat, sat, sat, sat, sat, sat, sat, sat, sat, sat], 'params': {'num_role_groups': 430, 'roles_per_group': 4, 'role_branching_factor': 3, 'num_users': 430, 'max_n_objects': 4, 'max_n_actions': 3}, 'num_roles': 1093, 'avg_elapsed': 25.320940585400603}\n",
      "{'result': [sat, sat, sat, sat, sat, sat, sat, sat, sat, sat], 'params': {'num_role_groups': 440, 'roles_per_group': 4, 'role_branching_factor': 3, 'num_users': 440, 'max_n_objects': 4, 'max_n_actions': 3}, 'num_roles': 1089, 'avg_elapsed': 31.499231278599837}\n",
      "{'result': [sat, sat, sat, sat, sat, sat, sat, sat, sat, sat], 'params': {'num_role_groups': 450, 'roles_per_group': 4, 'role_branching_factor': 3, 'num_users': 450, 'max_n_objects': 4, 'max_n_actions': 3}, 'num_roles': 1154, 'avg_elapsed': 39.15685778709958}\n",
      "{'result': [sat, sat, sat, sat, sat, sat, sat, sat, sat, sat], 'params': {'num_role_groups': 460, 'roles_per_group': 4, 'role_branching_factor': 3, 'num_users': 460, 'max_n_objects': 4, 'max_n_actions': 3}, 'num_roles': 1119, 'avg_elapsed': 10.005487941800675}\n",
      "{'result': [sat, sat, sat, sat, sat, sat, sat, sat, sat, sat], 'params': {'num_role_groups': 470, 'roles_per_group': 4, 'role_branching_factor': 3, 'num_users': 470, 'max_n_objects': 4, 'max_n_actions': 3}, 'num_roles': 1135, 'avg_elapsed': 48.374705664700016}\n",
      "{'result': [sat, sat, sat, sat, sat, sat, sat, sat, sat, sat], 'params': {'num_role_groups': 480, 'roles_per_group': 4, 'role_branching_factor': 3, 'num_users': 480, 'max_n_objects': 4, 'max_n_actions': 3}, 'num_roles': 1199, 'avg_elapsed': 22.98558311370034}\n",
      "{'result': [sat, sat, sat, sat, sat, sat, sat, sat, sat, sat], 'params': {'num_role_groups': 490, 'roles_per_group': 4, 'role_branching_factor': 3, 'num_users': 490, 'max_n_objects': 4, 'max_n_actions': 3}, 'num_roles': 1220, 'avg_elapsed': 32.91964218800094}\n"
     ]
    }
   ],
   "source": [
    "params3 = {\n",
    "    'num_role_groups': 100,\n",
    "    'roles_per_group': 4,\n",
    "    'role_branching_factor': 3,\n",
    "    'num_users': 100,\n",
    "    'max_n_objects': 4,\n",
    "    'max_n_actions': 3\n",
    "}\n",
    "\n",
    "sizes = [10*i for i in range(1, 50)]\n",
    "avg_elapsed = []\n",
    "for n in sizes:\n",
    "    params3['num_users'] = n\n",
    "    params3['num_role_groups'] = n\n",
    "    r = perform_averaged_test(params3)\n",
    "    print(r)\n",
    "    avg_elapsed.append(r['avg_elapsed'])"
   ]
  },
  {
   "cell_type": "code",
   "execution_count": 4,
   "metadata": {},
   "outputs": [
    {
     "data": {
      "text/plain": [
       "[<matplotlib.lines.Line2D at 0x10f966d70>]"
      ]
     },
     "execution_count": 4,
     "metadata": {},
     "output_type": "execute_result"
    },
    {
     "data": {
      "image/png": "[encoded data removed]",
      "text/plain": [
       "<Figure size 640x480 with 1 Axes>"
      ]
     },
     "metadata": {},
     "output_type": "display_data"
    }
   ],
   "source": [
    "plt.xlabel('Number of Users/Role Groups')\n",
    "plt.ylabel('Average Access Time (s)')\n",
    "plt.plot(sizes, avg_elapsed)"
   ]
  },
  {
   "cell_type": "code",
   "execution_count": 15,
   "metadata": {},
   "outputs": [],
   "source": [
    "import networkx as nx\n",
    "import random\n",
    "\n",
    "dg = nx.DiGraph([(1, 2), (2, 3), (3, 4), (4, 5)])\n"
   ]
  },
  {
   "cell_type": "code",
   "execution_count": 17,
   "metadata": {},
   "outputs": [
    {
     "data": {
      "text/plain": [
       "[1, 2]"
      ]
     },
     "execution_count": 17,
     "metadata": {},
     "output_type": "execute_result"
    }
   ],
   "source": [
    "def rand_walk(dg, k):\n",
    "    v = random.choice(list(dg.nodes))\n",
    "    seen = 0\n",
    "    path = []\n",
    "    while seen < k:\n",
    "        seen += 1\n",
    "        path.append(v)\n",
    "        if len(dg[v]) == 0:\n",
    "            break\n",
    "        else:\n",
    "            v = random.choice(list(dg[v]))\n",
    "    \n",
    "    return path\n",
    "\n",
    "rand_walk(dg, 2)\n"
   ]
  },
  {
   "cell_type": "code",
   "execution_count": null,
   "metadata": {},
   "outputs": [],
   "source": []
  }
 ],
 "metadata": {
  "kernelspec": {
   "display_name": "Python 3.10.1 ('env': venv)",
   "language": "python",
   "name": "python3"
  },
  "language_info": {
   "codemirror_mode": {
    "name": "ipython",
    "version": 3
   },
   "file_extension": ".py",
   "mimetype": "text/x-python",
   "name": "python",
   "nbconvert_exporter": "python",
   "pygments_lexer": "ipython3",
   "version": "3.10.1"
  },
  "orig_nbformat": 4,
  "vscode": {
   "interpreter": {
    "hash": "de07810760c49f6365e5a6393fc4630e7887d47cff617a62870208914051d748"
   }
  }
 },
 "nbformat": 4,
 "nbformat_minor": 2
}
